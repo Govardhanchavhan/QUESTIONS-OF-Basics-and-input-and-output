{
  "nbformat": 4,
  "nbformat_minor": 0,
  "metadata": {
    "colab": {
      "provenance": []
    },
    "kernelspec": {
      "name": "python3",
      "display_name": "Python 3"
    },
    "language_info": {
      "name": "python"
    }
  },
  "cells": [
    {
      "cell_type": "markdown",
      "source": [
        "**QUESTIONS # BASICS AND INPUT/OUTPUT**\n"
      ],
      "metadata": {
        "id": "48_fRZsiUtPC"
      }
    },
    {
      "cell_type": "markdown",
      "source": [
        "**QUE:- 1. Write a program to print \"Hello, World\".**"
      ],
      "metadata": {
        "id": "wjsH4D8SU9qp"
      }
    },
    {
      "cell_type": "code",
      "source": [
        "print (\"Hello World\")"
      ],
      "metadata": {
        "colab": {
          "base_uri": "https://localhost:8080/"
        },
        "id": "AQs1cIueV6pD",
        "outputId": "b2c6da29-0302-4909-b86a-1d6809617871"
      },
      "execution_count": 2,
      "outputs": [
        {
          "output_type": "stream",
          "name": "stdout",
          "text": [
            "Hello World\n"
          ]
        }
      ]
    },
    {
      "cell_type": "markdown",
      "source": [
        "Q**UE:- 2. Take input from the user and print it back.**"
      ],
      "metadata": {
        "id": "VfOXDbutWPkO"
      }
    },
    {
      "cell_type": "code",
      "source": [
        "name =input(\"what is your name\")\n",
        "age =input(\"what is your age\")\n",
        "address =input(\"what is your address\")\n",
        "\n",
        "print(name )\n",
        "print(age)\n",
        "print(address)"
      ],
      "metadata": {
        "colab": {
          "base_uri": "https://localhost:8080/"
        },
        "id": "Ukn3H9kUW-ij",
        "outputId": "0869fe0a-d442-4af4-e971-e8a5d33aff0d"
      },
      "execution_count": 9,
      "outputs": [
        {
          "output_type": "stream",
          "name": "stdout",
          "text": [
            "what is your namearya \n",
            "what is your age21\n",
            "what is your addresswardha\n",
            "arya \n",
            "21\n",
            "wardha\n"
          ]
        }
      ]
    },
    {
      "cell_type": "markdown",
      "source": [
        "**QUE:- 3. Write a program to calculate the sum of two numbers entered by the user.**"
      ],
      "metadata": {
        "id": "PJ7FdLj7ZQEv"
      }
    },
    {
      "cell_type": "code",
      "source": [
        "n1 = int (input(\"Enter first number:- 1\"))\n",
        "n2 = int(input(\"Enter second number:- 2\"))\n",
        "sum = n1 + n2\n",
        "\n",
        "print(\"addition is :\", sum)"
      ],
      "metadata": {
        "colab": {
          "base_uri": "https://localhost:8080/"
        },
        "id": "9TQ2kXohYGoV",
        "outputId": "8abb3046-9a3e-460a-d862-26cbc8193d39"
      },
      "execution_count": 11,
      "outputs": [
        {
          "output_type": "stream",
          "name": "stdout",
          "text": [
            "Enter first number:- 145\n",
            "Enter second number:- 278\n",
            "addition is : 123\n"
          ]
        }
      ]
    },
    {
      "cell_type": "markdown",
      "source": [
        "**QUE:- 4. Create a program to check if a number is odd or even.**"
      ],
      "metadata": {
        "id": "UpyhHtMabFeh"
      }
    },
    {
      "cell_type": "code",
      "source": [
        "number = int(input(\"Enter a number :  \"))\n",
        "if (number % 2) ==0:\n",
        "\n",
        "    print(number,\"is Even number\")\n",
        "else:\n",
        "    print(number,\"is Odd number\")"
      ],
      "metadata": {
        "colab": {
          "base_uri": "https://localhost:8080/"
        },
        "id": "G9glcAKzayxz",
        "outputId": "d8af68cf-0643-4b03-ae0d-865bb5e35a55"
      },
      "execution_count": 15,
      "outputs": [
        {
          "output_type": "stream",
          "name": "stdout",
          "text": [
            "Enter a number :  22\n",
            "22 is Even number\n"
          ]
        }
      ]
    },
    {
      "cell_type": "markdown",
      "source": [
        "**QUE:- 5. Write a program to find the maximum of three number.**"
      ],
      "metadata": {
        "id": "0Gl7_yBjcxgO"
      }
    },
    {
      "cell_type": "code",
      "source": [
        "a = int(input(\"Enter first number:\"))\n",
        "b = int(input(\"Enter second number:\"))\n",
        "c = int(input(\"Enter third number:\"))\n",
        "if (a>b) and (a>c):\n",
        "  print (\"Maximum number:\",a)\n",
        "elif(b>a) and (b>c):\n",
        "  print(\"Maximum number:\",b)\n",
        "else:\n",
        "  print(\"Maximum number:\",c)"
      ],
      "metadata": {
        "colab": {
          "base_uri": "https://localhost:8080/"
        },
        "id": "qABl6d1rcaUF",
        "outputId": "bb786b3d-69d5-4f84-c3a5-1bbe712be782"
      },
      "execution_count": 16,
      "outputs": [
        {
          "output_type": "stream",
          "name": "stdout",
          "text": [
            "Enter first number:3\n",
            "Enter second number:4\n",
            "Enter third number:2\n",
            "Maximum number: 4\n"
          ]
        }
      ]
    },
    {
      "cell_type": "markdown",
      "source": [
        "**QUE:- 6. Take a string input and print its reverse.**"
      ],
      "metadata": {
        "id": "ejmESoNVebU3"
      }
    },
    {
      "cell_type": "code",
      "source": [
        "string = \"hii my name is arya \"\n",
        "reverse = \"\"\n",
        "for i in range (len(string)):\n",
        "  reverse = string[i]+reverse\n",
        "print (reverse)"
      ],
      "metadata": {
        "colab": {
          "base_uri": "https://localhost:8080/"
        },
        "id": "kNGYs4fWeSEm",
        "outputId": "0d64a6ec-ed69-456c-83f6-bbc45511eec2"
      },
      "execution_count": 17,
      "outputs": [
        {
          "output_type": "stream",
          "name": "stdout",
          "text": [
            " ayra si eman ym iih\n"
          ]
        }
      ]
    },
    {
      "cell_type": "markdown",
      "source": [
        "**QUE:- 7.Write a program to count the number of vowels in a string.**"
      ],
      "metadata": {
        "id": "s7_hYiN7fY5X"
      }
    },
    {
      "cell_type": "code",
      "source": [
        "stringgiven = input(\"Enter the string:\")\n",
        "count= 0\n",
        "for a in stringgiven:\n",
        "  if a.lower() in ['a','e','i','o','u']:\n",
        "    count += 1\n",
        "\n",
        "print(f\"The vowels in a string is {count}\")"
      ],
      "metadata": {
        "colab": {
          "base_uri": "https://localhost:8080/"
        },
        "id": "7a49nj7dfXUj",
        "outputId": "64a5e6a6-b8be-44d1-d597-afc962e33129"
      },
      "execution_count": 18,
      "outputs": [
        {
          "output_type": "stream",
          "name": "stdout",
          "text": [
            "Enter the string:learn something\n",
            "The vowels in a string is 5\n"
          ]
        }
      ]
    },
    {
      "cell_type": "markdown",
      "source": [
        "**QUE:- 8. Print all even number from 1 to 50.**"
      ],
      "metadata": {
        "id": "tN4btYGghJXW"
      }
    },
    {
      "cell_type": "code",
      "source": [
        "i = 2\n",
        "while i<= 50:\n",
        "  print(i)\n",
        "  i=i+2"
      ],
      "metadata": {
        "colab": {
          "base_uri": "https://localhost:8080/"
        },
        "id": "yAyGPyY2g7Ug",
        "outputId": "212ce7c2-2576-4357-b74f-b1336fc47871"
      },
      "execution_count": 19,
      "outputs": [
        {
          "output_type": "stream",
          "name": "stdout",
          "text": [
            "2\n",
            "4\n",
            "6\n",
            "8\n",
            "10\n",
            "12\n",
            "14\n",
            "16\n",
            "18\n",
            "20\n",
            "22\n",
            "24\n",
            "26\n",
            "28\n",
            "30\n",
            "32\n",
            "34\n",
            "36\n",
            "38\n",
            "40\n",
            "42\n",
            "44\n",
            "46\n",
            "48\n",
            "50\n"
          ]
        }
      ]
    },
    {
      "cell_type": "markdown",
      "source": [
        "**QUE:- 9. Write a program to print the multiplication table of a given number.**"
      ],
      "metadata": {
        "id": "Wq8jOdDRh6qg"
      }
    },
    {
      "cell_type": "code",
      "source": [
        "n = 8\n",
        "for i in range (1,11):\n",
        "  print(n*i)"
      ],
      "metadata": {
        "colab": {
          "base_uri": "https://localhost:8080/"
        },
        "id": "SqsIPRdAh2XR",
        "outputId": "8a2d01b4-d4f7-4333-aa02-902c5a1b4524"
      },
      "execution_count": 20,
      "outputs": [
        {
          "output_type": "stream",
          "name": "stdout",
          "text": [
            "8\n",
            "16\n",
            "24\n",
            "32\n",
            "40\n",
            "48\n",
            "56\n",
            "64\n",
            "72\n",
            "80\n"
          ]
        }
      ]
    },
    {
      "cell_type": "markdown",
      "source": [
        "**QUE:- 10. Create a calculator program with options for addition,substraction,multiplication,division.**"
      ],
      "metadata": {
        "id": "-Vl8xcgmignC"
      }
    },
    {
      "cell_type": "code",
      "source": [
        "x = int (input(\"Enter first number:\"))\n",
        "y = int (input(\"Enter second number:\"))\n",
        "a = x+y\n",
        "b = x-y\n",
        "c = x*y\n",
        "d = x/y\n",
        "print(\"addition=\",a)\n",
        "print(\"substraction=\",b)\n",
        "print(\"multiplication=\",c)\n",
        "print(\"division=\",d)"
      ],
      "metadata": {
        "colab": {
          "base_uri": "https://localhost:8080/"
        },
        "id": "KtZRybHBicwD",
        "outputId": "300ff4dd-a4aa-4f15-c49c-52c0d876c3e5"
      },
      "execution_count": 22,
      "outputs": [
        {
          "output_type": "stream",
          "name": "stdout",
          "text": [
            "Enter first number:8\n",
            "Enter second number:23\n",
            "addition= 31\n",
            "substraction= -15\n",
            "multiplication= 184\n",
            "division= 0.34782608695652173\n"
          ]
        }
      ]
    },
    {
      "cell_type": "markdown",
      "source": [],
      "metadata": {
        "id": "LjTNgjrYj6xD"
      }
    },
    {
      "cell_type": "code",
      "source": [],
      "metadata": {
        "id": "HXPHCNLnjesN"
      },
      "execution_count": 22,
      "outputs": []
    }
  ]
}